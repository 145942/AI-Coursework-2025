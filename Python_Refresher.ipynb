{
  "nbformat": 4,
  "nbformat_minor": 0,
  "metadata": {
    "colab": {
      "provenance": [],
      "authorship_tag": "ABX9TyP2/3hARKZxCx0md8vkd+yg",
      "include_colab_link": true
    },
    "kernelspec": {
      "name": "python3",
      "display_name": "Python 3"
    },
    "language_info": {
      "name": "python"
    }
  },
  "cells": [
    {
      "cell_type": "markdown",
      "metadata": {
        "id": "view-in-github",
        "colab_type": "text"
      },
      "source": [
        "<a href=\"https://colab.research.google.com/github/145942/AI-Coursework-2025/blob/main/Python_Refresher.ipynb\" target=\"_parent\"><img src=\"https://colab.research.google.com/assets/colab-badge.svg\" alt=\"Open In Colab\"/></a>"
      ]
    },
    {
      "cell_type": "code",
      "execution_count": 27,
      "metadata": {
        "id": "oj7wSr3eb12I",
        "colab": {
          "base_uri": "https://localhost:8080/"
        },
        "outputId": "4783d84f-b896-4263-be79-fcfc6281dc2f"
      },
      "outputs": [
        {
          "output_type": "stream",
          "name": "stdout",
          "text": [
            "how many days?2\n",
            "there are 172800 seconds in 2days\n",
            "what is the radius of your sphere?2\n",
            "the volume of your sphere with the radius 2.0 is 33.51 cm3\n",
            "enter the length of the square 2\n",
            "area= 4.0\n",
            "perimeter= 8.0\n",
            "enter only one character w\n",
            "w is lowercase\n",
            "x = 1.0416666666666665\n",
            "value= 11\n",
            "value= 22\n",
            "value= 33\n",
            "value= 44\n",
            "value= 55\n",
            "\n",
            " average= 3.0\n"
          ]
        }
      ],
      "source": [
        "from ast import If\n",
        "#question 1\n",
        "days=int(input(\"how many days?\"))\n",
        "\n",
        "seconds= days*24*60*60\n",
        "\n",
        "print(f\"there are {seconds} seconds in {days}days\")\n",
        "# the f stands for formated string which makes it readable (which makes the process of execution faster) to the embeded instructions inside the string constraints and is less likely to have errors\n",
        "\n",
        "#question 2\n",
        "import math\n",
        "radius = float(input(\"what is the radius of your sphere?\"))\n",
        "volume = (4/3)* math.pi* (radius**3)\n",
        "print(f\"the volume of your sphere with the radius {radius} is {volume:.2f} cm3\")\n",
        "#the import math allows us to get the accurate value of pi using the math.pi command\n",
        "#the ** operator is for calculating the radius to power 3\n",
        "#the :.2f alows the display of the volume to be in 2 decimal places which isn't necessary but more decimal places makes the volume more accurate or the number more accurate\n",
        "\n",
        "#question 3\n",
        "def calculate_area(length):\n",
        "  return length * length\n",
        "\n",
        "\n",
        "def calculate_perimeter(length):\n",
        "    return 4 * length\n",
        "\n",
        "def main():\n",
        "      length = float(input(\"enter the length of the square \"))\n",
        "\n",
        "      area= calculate_area(length)\n",
        "      perimeter= calculate_perimeter(length)\n",
        "\n",
        "      print(f\"area= {area}\")\n",
        "      print(f\"perimeter= {perimeter}\")\n",
        "\n",
        "if __name__ == \"__main__\":\n",
        "        main()\n",
        "#when i was doing this question i realised that all the functions need to be on the same level for the code to run which was a challange to identify the problem since when you press enter to go to the next line it is places by the IDE\n",
        "\n",
        "#question 4\n",
        "def check_case(character):\n",
        "  if len(character) !=1:\n",
        "    return \"enter only one character\"\n",
        "  if character.isupper():\n",
        "    return \"uppercase\"\n",
        "  elif character.islower():\n",
        "    return \"lowercase\"\n",
        "  else:\n",
        "    return \"not a letter\"\n",
        "\n",
        "def main():\n",
        "  user_input= input(\"enter only one character \")\n",
        "  result= check_case(user_input)\n",
        "  print(f\"{user_input} is {result}\")\n",
        "\n",
        "if __name__==\"__main__\":\n",
        "  main()\n",
        "\n",
        "  #question 5\n",
        "x = 0\n",
        "y = 20\n",
        "\n",
        "while True:\n",
        "  y -= 4\n",
        "\n",
        "  x += 2/y\n",
        "\n",
        "  if y < 6:\n",
        "    break\n",
        "\n",
        "print(f\"x = {x}\")\n",
        "\n",
        "#question 6\n",
        "values =[]\n",
        "for k in range(5):\n",
        "  while True:\n",
        "    try:\n",
        "      num = float(input(f\"value= {k+1}\"))\n",
        "      values.append(num)\n",
        "      break\n",
        "    except ValueError:\n",
        "      print(\"error!! enter a number\")\n",
        "\n",
        "average = sum(values)/len(values)\n",
        "print(f\"\\n average= {average}\")\n"
      ]
    }
  ]
}