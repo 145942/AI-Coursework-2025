{
  "nbformat": 4,
  "nbformat_minor": 0,
  "metadata": {
    "colab": {
      "provenance": [],
      "authorship_tag": "ABX9TyML6G10USX6QSkTWZ7rffHt",
      "include_colab_link": true
    },
    "kernelspec": {
      "name": "python3",
      "display_name": "Python 3"
    },
    "language_info": {
      "name": "python"
    }
  },
  "cells": [
    {
      "cell_type": "markdown",
      "metadata": {
        "id": "view-in-github",
        "colab_type": "text"
      },
      "source": [
        "<a href=\"https://colab.research.google.com/github/145942/AI-Coursework-2025/blob/main/Python_Refresher.ipynb\" target=\"_parent\"><img src=\"https://colab.research.google.com/assets/colab-badge.svg\" alt=\"Open In Colab\"/></a>"
      ]
    },
    {
      "cell_type": "code",
      "execution_count": 28,
      "metadata": {
        "id": "oj7wSr3eb12I",
        "colab": {
          "base_uri": "https://localhost:8080/",
          "height": 356
        },
        "outputId": "1750a41d-e60c-4473-e65b-1bc9e09cb12d"
      },
      "outputs": [
        {
          "output_type": "error",
          "ename": "KeyboardInterrupt",
          "evalue": "Interrupted by user",
          "traceback": [
            "\u001b[0;31m---------------------------------------------------------------------------\u001b[0m",
            "\u001b[0;31mKeyboardInterrupt\u001b[0m                         Traceback (most recent call last)",
            "\u001b[0;32m/tmp/ipython-input-3535106368.py\u001b[0m in \u001b[0;36m<cell line: 0>\u001b[0;34m()\u001b[0m\n\u001b[1;32m      1\u001b[0m \u001b[0;31m#question 1\u001b[0m\u001b[0;34m\u001b[0m\u001b[0;34m\u001b[0m\u001b[0m\n\u001b[0;32m----> 2\u001b[0;31m \u001b[0mdays\u001b[0m\u001b[0;34m=\u001b[0m\u001b[0mint\u001b[0m\u001b[0;34m(\u001b[0m\u001b[0minput\u001b[0m\u001b[0;34m(\u001b[0m\u001b[0;34m\"how many days?\"\u001b[0m\u001b[0;34m)\u001b[0m\u001b[0;34m)\u001b[0m\u001b[0;34m\u001b[0m\u001b[0;34m\u001b[0m\u001b[0m\n\u001b[0m\u001b[1;32m      3\u001b[0m \u001b[0;34m\u001b[0m\u001b[0m\n\u001b[1;32m      4\u001b[0m \u001b[0mseconds\u001b[0m\u001b[0;34m=\u001b[0m \u001b[0mdays\u001b[0m\u001b[0;34m*\u001b[0m\u001b[0;36m24\u001b[0m\u001b[0;34m*\u001b[0m\u001b[0;36m60\u001b[0m\u001b[0;34m*\u001b[0m\u001b[0;36m60\u001b[0m\u001b[0;34m\u001b[0m\u001b[0;34m\u001b[0m\u001b[0m\n\u001b[1;32m      5\u001b[0m \u001b[0;34m\u001b[0m\u001b[0m\n",
            "\u001b[0;32m/usr/local/lib/python3.12/dist-packages/ipykernel/kernelbase.py\u001b[0m in \u001b[0;36mraw_input\u001b[0;34m(self, prompt)\u001b[0m\n\u001b[1;32m   1175\u001b[0m                 \u001b[0;34m\"raw_input was called, but this frontend does not support input requests.\"\u001b[0m\u001b[0;34m\u001b[0m\u001b[0;34m\u001b[0m\u001b[0m\n\u001b[1;32m   1176\u001b[0m             )\n\u001b[0;32m-> 1177\u001b[0;31m         return self._input_request(\n\u001b[0m\u001b[1;32m   1178\u001b[0m             \u001b[0mstr\u001b[0m\u001b[0;34m(\u001b[0m\u001b[0mprompt\u001b[0m\u001b[0;34m)\u001b[0m\u001b[0;34m,\u001b[0m\u001b[0;34m\u001b[0m\u001b[0;34m\u001b[0m\u001b[0m\n\u001b[1;32m   1179\u001b[0m             \u001b[0mself\u001b[0m\u001b[0;34m.\u001b[0m\u001b[0m_parent_ident\u001b[0m\u001b[0;34m[\u001b[0m\u001b[0;34m\"shell\"\u001b[0m\u001b[0;34m]\u001b[0m\u001b[0;34m,\u001b[0m\u001b[0;34m\u001b[0m\u001b[0;34m\u001b[0m\u001b[0m\n",
            "\u001b[0;32m/usr/local/lib/python3.12/dist-packages/ipykernel/kernelbase.py\u001b[0m in \u001b[0;36m_input_request\u001b[0;34m(self, prompt, ident, parent, password)\u001b[0m\n\u001b[1;32m   1217\u001b[0m             \u001b[0;32mexcept\u001b[0m \u001b[0mKeyboardInterrupt\u001b[0m\u001b[0;34m:\u001b[0m\u001b[0;34m\u001b[0m\u001b[0;34m\u001b[0m\u001b[0m\n\u001b[1;32m   1218\u001b[0m                 \u001b[0;31m# re-raise KeyboardInterrupt, to truncate traceback\u001b[0m\u001b[0;34m\u001b[0m\u001b[0;34m\u001b[0m\u001b[0m\n\u001b[0;32m-> 1219\u001b[0;31m                 \u001b[0;32mraise\u001b[0m \u001b[0mKeyboardInterrupt\u001b[0m\u001b[0;34m(\u001b[0m\u001b[0;34m\"Interrupted by user\"\u001b[0m\u001b[0;34m)\u001b[0m \u001b[0;32mfrom\u001b[0m \u001b[0;32mNone\u001b[0m\u001b[0;34m\u001b[0m\u001b[0;34m\u001b[0m\u001b[0m\n\u001b[0m\u001b[1;32m   1220\u001b[0m             \u001b[0;32mexcept\u001b[0m \u001b[0mException\u001b[0m\u001b[0;34m:\u001b[0m\u001b[0;34m\u001b[0m\u001b[0;34m\u001b[0m\u001b[0m\n\u001b[1;32m   1221\u001b[0m                 \u001b[0mself\u001b[0m\u001b[0;34m.\u001b[0m\u001b[0mlog\u001b[0m\u001b[0;34m.\u001b[0m\u001b[0mwarning\u001b[0m\u001b[0;34m(\u001b[0m\u001b[0;34m\"Invalid Message:\"\u001b[0m\u001b[0;34m,\u001b[0m \u001b[0mexc_info\u001b[0m\u001b[0;34m=\u001b[0m\u001b[0;32mTrue\u001b[0m\u001b[0;34m)\u001b[0m\u001b[0;34m\u001b[0m\u001b[0;34m\u001b[0m\u001b[0m\n",
            "\u001b[0;31mKeyboardInterrupt\u001b[0m: Interrupted by user"
          ]
        }
      ],
      "source": [
        "#question 1\n",
        "days=int(input(\"how many days?\"))\n",
        "\n",
        "seconds= days*24*60*60\n",
        "\n",
        "print(f\"there are {seconds} seconds in {days}days\")\n",
        "# the f stands for formated string which makes it readable (which makes the process of execution faster) to the embeded instructions inside the string constraints and is less likely to have errors\n",
        "\n",
        "#question 2\n",
        "import math\n",
        "radius = float(input(\"what is the radius of your sphere?\"))\n",
        "volume = (4/3)* math.pi* (radius**3)\n",
        "print(f\"the volume of your sphere with the radius {radius} is {volume:.2f} cm3\")\n",
        "#the import math allows us to get the accurate value of pi using the math.pi command\n",
        "#the ** operator is for calculating the radius to power 3\n",
        "#the :.2f alows the display of the volume to be in 2 decimal places which isn't necessary but more decimal places makes the volume more accurate or the number more accurate\n",
        "\n",
        "#question 3\n",
        "def calculate_area(length):\n",
        "  return length * length\n",
        "\n",
        "\n",
        "def calculate_perimeter(length):\n",
        "    return 4 * length\n",
        "\n",
        "def main():\n",
        "      length = float(input(\"enter the length of the square \"))\n",
        "\n",
        "      area= calculate_area(length)\n",
        "      perimeter= calculate_perimeter(length)\n",
        "\n",
        "      print(f\"area= {area}\")\n",
        "      print(f\"perimeter= {perimeter}\")\n",
        "\n",
        "if __name__ == \"__main__\":\n",
        "        main()\n",
        "#when i was doing this question i realised that all the functions need to be on the same level for the code to run which was a challange to identify the problem since when you press enter to go to the next line it is places by the IDE\n",
        "\n",
        "#question 4\n",
        "def check_case(character):\n",
        "  if len(character) !=1:\n",
        "    return \"enter only one character\"\n",
        "  if character.isupper():\n",
        "    return \"uppercase\"\n",
        "  elif character.islower():\n",
        "    return \"lowercase\"\n",
        "  else:\n",
        "    return \"not a letter\"\n",
        "\n",
        "def main():\n",
        "  user_input= input(\"enter only one character \")\n",
        "  result= check_case(user_input)\n",
        "  print(f\"{user_input} is {result}\")\n",
        "\n",
        "if __name__==\"__main__\":\n",
        "  main()\n",
        "\n",
        "  #question 5\n",
        "x = 0\n",
        "y = 20\n",
        "\n",
        "while True:\n",
        "  y -= 4\n",
        "\n",
        "  x += 2/y\n",
        "\n",
        "  if y < 6:\n",
        "    break\n",
        "\n",
        "print(f\"x = {x}\")\n",
        "\n",
        "#question 6\n",
        "values =[]\n",
        "for k in range(5):\n",
        "  while True:\n",
        "    try:\n",
        "      num = float(input(f\"value= {k+1}\"))\n",
        "      values.append(num)\n",
        "      break\n",
        "    except ValueError:\n",
        "      print(\"error!! enter a number\")\n",
        "\n",
        "average = sum(values)/len(values)\n",
        "print(f\"\\n average= {average}\")\n"
      ]
    }
  ]
}